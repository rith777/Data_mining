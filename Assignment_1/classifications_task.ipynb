{
 "cells": [
  {
   "cell_type": "code",
   "execution_count": 7,
   "id": "41c778df",
   "metadata": {},
   "outputs": [],
   "source": [
    "import pandas as pd\n",
    "import seaborn as sns\n",
    "import matplotlib.pyplot as plt\n",
    "from sklearn.impute import KNNImputer\n",
    "import os"
   ]
  },
  {
   "cell_type": "code",
   "execution_count": 12,
   "id": "08a777bf",
   "metadata": {},
   "outputs": [],
   "source": [
    "data = pd.read_csv(f'data_sets_after_cleaning/temporal_features_5day_class.csv')"
   ]
  },
  {
   "cell_type": "code",
   "execution_count": 13,
   "id": "f23b23d0",
   "metadata": {},
   "outputs": [
    {
     "data": {
      "application/vnd.microsoft.datawrangler.viewer.v0+json": {
       "columns": [
        {
         "name": "index",
         "rawType": "int64",
         "type": "integer"
        },
        {
         "name": "id",
         "rawType": "int64",
         "type": "integer"
        },
        {
         "name": "datetime",
         "rawType": "object",
         "type": "string"
        },
        {
         "name": "mood_5day_mean",
         "rawType": "float64",
         "type": "float"
        },
        {
         "name": "mood_5day_std",
         "rawType": "float64",
         "type": "float"
        },
        {
         "name": "mood_lag_1",
         "rawType": "float64",
         "type": "float"
        },
        {
         "name": "mood_lag_2",
         "rawType": "float64",
         "type": "float"
        },
        {
         "name": "mood_lag_3",
         "rawType": "float64",
         "type": "float"
        },
        {
         "name": "day_of_week",
         "rawType": "int64",
         "type": "integer"
        },
        {
         "name": "time_of_day",
         "rawType": "int64",
         "type": "integer"
        },
        {
         "name": "is_weekend",
         "rawType": "int64",
         "type": "integer"
        },
        {
         "name": "target_mood",
         "rawType": "float64",
         "type": "float"
        },
        {
         "name": "mood_class",
         "rawType": "int64",
         "type": "integer"
        }
       ],
       "conversionMethod": "pd.DataFrame",
       "ref": "267a39c0-e6d5-427e-83ce-88e853eeb0bb",
       "rows": [
        [
         "0",
         "1",
         "2014-02-26 21:00:00",
         "6.25",
         "0.5",
         "6.0",
         "6.0",
         "6.0",
         "3",
         "3",
         "0",
         "6.0",
         "1"
        ],
        [
         "1",
         "1",
         "2014-02-27 09:00:00",
         "6.2",
         "0.4472135954999579",
         "7.0",
         "6.0",
         "6.0",
         "4",
         "1",
         "0",
         "6.0",
         "1"
        ],
        [
         "2",
         "1",
         "2014-02-27 12:00:00",
         "6.166666666666667",
         "0.408248290463863",
         "6.0",
         "7.0",
         "6.0",
         "4",
         "2",
         "0",
         "7.0",
         "1"
        ],
        [
         "3",
         "1",
         "2014-02-27 15:00:00",
         "6.285714285714286",
         "0.4879500364742666",
         "6.0",
         "6.0",
         "7.0",
         "4",
         "2",
         "0",
         "6.0",
         "1"
        ],
        [
         "4",
         "1",
         "2014-03-21 11:00:00",
         "6.0",
         "0.0",
         "6.0",
         "7.0",
         "6.0",
         "5",
         "1",
         "0",
         "7.0",
         "1"
        ]
       ],
       "shape": {
        "columns": 12,
        "rows": 5
       }
      },
      "text/html": [
       "<div>\n",
       "<style scoped>\n",
       "    .dataframe tbody tr th:only-of-type {\n",
       "        vertical-align: middle;\n",
       "    }\n",
       "\n",
       "    .dataframe tbody tr th {\n",
       "        vertical-align: top;\n",
       "    }\n",
       "\n",
       "    .dataframe thead th {\n",
       "        text-align: right;\n",
       "    }\n",
       "</style>\n",
       "<table border=\"1\" class=\"dataframe\">\n",
       "  <thead>\n",
       "    <tr style=\"text-align: right;\">\n",
       "      <th></th>\n",
       "      <th>id</th>\n",
       "      <th>datetime</th>\n",
       "      <th>mood_5day_mean</th>\n",
       "      <th>mood_5day_std</th>\n",
       "      <th>mood_lag_1</th>\n",
       "      <th>mood_lag_2</th>\n",
       "      <th>mood_lag_3</th>\n",
       "      <th>day_of_week</th>\n",
       "      <th>time_of_day</th>\n",
       "      <th>is_weekend</th>\n",
       "      <th>target_mood</th>\n",
       "      <th>mood_class</th>\n",
       "    </tr>\n",
       "  </thead>\n",
       "  <tbody>\n",
       "    <tr>\n",
       "      <th>0</th>\n",
       "      <td>1</td>\n",
       "      <td>2014-02-26 21:00:00</td>\n",
       "      <td>6.250000</td>\n",
       "      <td>0.500000</td>\n",
       "      <td>6.0</td>\n",
       "      <td>6.0</td>\n",
       "      <td>6.0</td>\n",
       "      <td>3</td>\n",
       "      <td>3</td>\n",
       "      <td>0</td>\n",
       "      <td>6.0</td>\n",
       "      <td>1</td>\n",
       "    </tr>\n",
       "    <tr>\n",
       "      <th>1</th>\n",
       "      <td>1</td>\n",
       "      <td>2014-02-27 09:00:00</td>\n",
       "      <td>6.200000</td>\n",
       "      <td>0.447214</td>\n",
       "      <td>7.0</td>\n",
       "      <td>6.0</td>\n",
       "      <td>6.0</td>\n",
       "      <td>4</td>\n",
       "      <td>1</td>\n",
       "      <td>0</td>\n",
       "      <td>6.0</td>\n",
       "      <td>1</td>\n",
       "    </tr>\n",
       "    <tr>\n",
       "      <th>2</th>\n",
       "      <td>1</td>\n",
       "      <td>2014-02-27 12:00:00</td>\n",
       "      <td>6.166667</td>\n",
       "      <td>0.408248</td>\n",
       "      <td>6.0</td>\n",
       "      <td>7.0</td>\n",
       "      <td>6.0</td>\n",
       "      <td>4</td>\n",
       "      <td>2</td>\n",
       "      <td>0</td>\n",
       "      <td>7.0</td>\n",
       "      <td>1</td>\n",
       "    </tr>\n",
       "    <tr>\n",
       "      <th>3</th>\n",
       "      <td>1</td>\n",
       "      <td>2014-02-27 15:00:00</td>\n",
       "      <td>6.285714</td>\n",
       "      <td>0.487950</td>\n",
       "      <td>6.0</td>\n",
       "      <td>6.0</td>\n",
       "      <td>7.0</td>\n",
       "      <td>4</td>\n",
       "      <td>2</td>\n",
       "      <td>0</td>\n",
       "      <td>6.0</td>\n",
       "      <td>1</td>\n",
       "    </tr>\n",
       "    <tr>\n",
       "      <th>4</th>\n",
       "      <td>1</td>\n",
       "      <td>2014-03-21 11:00:00</td>\n",
       "      <td>6.000000</td>\n",
       "      <td>0.000000</td>\n",
       "      <td>6.0</td>\n",
       "      <td>7.0</td>\n",
       "      <td>6.0</td>\n",
       "      <td>5</td>\n",
       "      <td>1</td>\n",
       "      <td>0</td>\n",
       "      <td>7.0</td>\n",
       "      <td>1</td>\n",
       "    </tr>\n",
       "  </tbody>\n",
       "</table>\n",
       "</div>"
      ],
      "text/plain": [
       "   id             datetime  mood_5day_mean  mood_5day_std  mood_lag_1  \\\n",
       "0   1  2014-02-26 21:00:00        6.250000       0.500000         6.0   \n",
       "1   1  2014-02-27 09:00:00        6.200000       0.447214         7.0   \n",
       "2   1  2014-02-27 12:00:00        6.166667       0.408248         6.0   \n",
       "3   1  2014-02-27 15:00:00        6.285714       0.487950         6.0   \n",
       "4   1  2014-03-21 11:00:00        6.000000       0.000000         6.0   \n",
       "\n",
       "   mood_lag_2  mood_lag_3  day_of_week  time_of_day  is_weekend  target_mood  \\\n",
       "0         6.0         6.0            3            3           0          6.0   \n",
       "1         6.0         6.0            4            1           0          6.0   \n",
       "2         7.0         6.0            4            2           0          7.0   \n",
       "3         6.0         7.0            4            2           0          6.0   \n",
       "4         7.0         6.0            5            1           0          7.0   \n",
       "\n",
       "   mood_class  \n",
       "0           1  \n",
       "1           1  \n",
       "2           1  \n",
       "3           1  \n",
       "4           1  "
      ]
     },
     "execution_count": 13,
     "metadata": {},
     "output_type": "execute_result"
    }
   ],
   "source": [
    "data.head(5)"
   ]
  }
 ],
 "metadata": {
  "kernelspec": {
   "display_name": "p1_env",
   "language": "python",
   "name": "python3"
  },
  "language_info": {
   "codemirror_mode": {
    "name": "ipython",
    "version": 3
   },
   "file_extension": ".py",
   "mimetype": "text/x-python",
   "name": "python",
   "nbconvert_exporter": "python",
   "pygments_lexer": "ipython3",
   "version": "3.12.4"
  }
 },
 "nbformat": 4,
 "nbformat_minor": 5
}
